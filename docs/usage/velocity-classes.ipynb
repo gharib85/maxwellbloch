{
 "cells": [
  {
   "cell_type": "markdown",
   "metadata": {},
   "source": [
    "# Velocity Classes for Modelling Doppler Broadening in Thermal Systems"
   ]
  },
  {
   "cell_type": "code",
   "execution_count": null,
   "metadata": {},
   "outputs": [],
   "source": [
    "# Imports for plotting\n",
    "import matplotlib.pyplot as plt\n",
    "%matplotlib inline\n",
    "import seaborn as sns\n",
    "import numpy as np\n",
    "sns.set_style('darkgrid')"
   ]
  },
  {
   "cell_type": "code",
   "execution_count": null,
   "metadata": {},
   "outputs": [],
   "source": [
    "mb_solve_json = \"\"\"\n",
    "{\n",
    "  \"atom\": {\n",
    "    \"decays\": [\n",
    "      {\n",
    "        \"channels\": [[0, 1]],\n",
    "        \"rate\": 1.0\n",
    "      }\n",
    "    ],\n",
    "    \"fields\": [\n",
    "      {\n",
    "        \"coupled_levels\": [[0, 1]],\n",
    "        \"rabi_freq\": 1.0e-3,\n",
    "        \"rabi_freq_t_args\": {\n",
    "          \"ampl\": 1.0,\n",
    "          \"centre\": 0.0,\n",
    "          \"fwhm\": 1.0\n",
    "        },\n",
    "        \"rabi_freq_t_func\": \"gaussian\"\n",
    "      }\n",
    "    ],\n",
    "    \"num_states\": 2\n",
    "  },\n",
    "  \"t_min\": -2.0,\n",
    "  \"t_max\": 10.0,\n",
    "  \"t_steps\": 1000,\n",
    "  \"z_min\": -0.2,\n",
    "  \"z_max\": 1.2,\n",
    "  \"z_steps\": 50,\n",
    "  \"interaction_strengths\": [\n",
    "    1.0\n",
    "  ],\n",
    "  \"velocity_classes\": {\n",
    "    \"thermal_delta_min\": -0.1,\n",
    "    \"thermal_delta_max\": 0.1,\n",
    "    \"thermal_delta_steps\": 4,\n",
    "    \"thermal_width\": 0.05\n",
    "  },\n",
    "  \"savefile\": \"velocity-classes\"\n",
    "}\n",
    "\"\"\""
   ]
  },
  {
   "cell_type": "code",
   "execution_count": null,
   "metadata": {},
   "outputs": [],
   "source": [
    "from maxwellbloch import mb_solve\n",
    "mbs = mb_solve.MBSolve().from_json_str(mb_solve_json)"
   ]
  },
  {
   "cell_type": "code",
   "execution_count": null,
   "metadata": {},
   "outputs": [],
   "source": [
    "mbs.thermal_delta_list"
   ]
  },
  {
   "cell_type": "code",
   "execution_count": null,
   "metadata": {},
   "outputs": [],
   "source": [
    "mbs.thermal_weights"
   ]
  },
  {
   "cell_type": "code",
   "execution_count": null,
   "metadata": {},
   "outputs": [],
   "source": [
    "maxboltz = mb_solve.maxwell_boltzmann(mbs.thermal_delta_list, 2*np.pi*mbs.velocity_classes['thermal_width'])"
   ]
  },
  {
   "cell_type": "code",
   "execution_count": null,
   "metadata": {},
   "outputs": [],
   "source": [
    "plt.plot(mbs.thermal_delta_list, maxboltz)"
   ]
  },
  {
   "cell_type": "code",
   "execution_count": null,
   "metadata": {},
   "outputs": [],
   "source": [
    "np.trapz(mbs.thermal_weights, mbs.thermal_delta_list)"
   ]
  },
  {
   "cell_type": "code",
   "execution_count": null,
   "metadata": {},
   "outputs": [],
   "source": [
    "Omegas_zt, states_zt = mbs.mbsolve(recalc=False)"
   ]
  },
  {
   "cell_type": "markdown",
   "metadata": {},
   "source": [
    "## Results in the Time Domain"
   ]
  },
  {
   "cell_type": "code",
   "execution_count": null,
   "metadata": {},
   "outputs": [],
   "source": [
    "fig = plt.figure(1, figsize=(16, 6))\n",
    "ax = fig.add_subplot(111)\n",
    "cmap_range = np.linspace(0.0, 1.0e-3, 11)\n",
    "cf = ax.contourf(mbs.tlist, mbs.zlist, \n",
    "                 np.abs(mbs.Omegas_zt[0]/(2*np.pi)), \n",
    "                 cmap_range, cmap=plt.cm.Blues)\n",
    "ax.set_title('Rabi Frequency ($\\Gamma / 2\\pi $)')\n",
    "ax.set_xlabel('Time ($1/\\Gamma$)')\n",
    "ax.set_ylabel('Distance ($L$)')\n",
    "for y in [0.0, 1.0]:\n",
    "    ax.axhline(y, c='grey', lw=1.0, ls='dotted')\n",
    "plt.colorbar(cf);"
   ]
  },
  {
   "cell_type": "markdown",
   "metadata": {},
   "source": [
    "## Results in the Frequency Domain"
   ]
  },
  {
   "cell_type": "code",
   "execution_count": null,
   "metadata": {},
   "outputs": [],
   "source": [
    "from maxwellbloch import spectral, utility"
   ]
  },
  {
   "cell_type": "code",
   "execution_count": null,
   "metadata": {},
   "outputs": [],
   "source": [
    "interaction_strength = mbs.interaction_strengths[0]\n",
    "decay_rate = mbs.atom.decays[0]['rate']\n",
    "freq_list = spectral.freq_list(mbs)\n",
    "absorption_linear_known = spectral.absorption_two_linear_known(freq_list, \n",
    "    interaction_strength, decay_rate)\n",
    "dispersion_linear_known = spectral.dispersion_two_linear_known(freq_list, \n",
    "    interaction_strength, decay_rate)\n",
    "\n",
    "fig = plt.figure(4, figsize=(16, 6))\n",
    "ax = fig.add_subplot(111)\n",
    "pal = sns.color_palette('deep')\n",
    "\n",
    "ax.plot(freq_list, spectral.absorption(mbs, 0, -1), \n",
    "        label='Absorption', lw=5.0, c=pal[0])\n",
    "ax.plot(freq_list, spectral.dispersion(mbs, 0, -1), \n",
    "        label='Dispersion', lw=5.0, c=pal[1])\n",
    "\n",
    "ax.plot(freq_list, absorption_linear_known, ls='dotted', c=pal[0], lw=2.0, label='Absorption, No Thermal')\n",
    "ax.plot(freq_list, dispersion_linear_known, ls='dotted', c=pal[1], lw=2.0, label='Dispersion, No Thermal')\n",
    "\n",
    "# Widths\n",
    "hm, r1, r2 = utility.half_max_roots(freq_list, spectral.absorption(mbs, field_idx=0))\n",
    "plt.hlines(y=hm, xmin=r1, xmax=r2, linestyle='dotted', color=pal[0])\n",
    "plt.annotate('FWHM: ' + '%0.2f'%(r2 - r1), xy=(r2, hm), color=pal[0],\n",
    "              xycoords='data', xytext=(5, 5), textcoords='offset points');\n",
    "\n",
    "voigt = spectral.voigt_two_linear_known(freq_list, 1.0, 0.05).imag\n",
    "ax.plot(freq_list, voigt, c='white', \n",
    "    ls='dashed', lw=2.0, label='Known Absorption, Voigt Profile')\n",
    "\n",
    "ax.set_xlim(-3.0, 3.0)\n",
    "ax.set_ylim(-1.0, 1.0)\n",
    "ax.set_xlabel('Frequency ($\\Gamma$)')\n",
    "\n",
    "ax.legend();"
   ]
  },
  {
   "cell_type": "code",
   "execution_count": null,
   "metadata": {},
   "outputs": [],
   "source": [
    "# Plot residuals\n",
    "fig = plt.figure(figsize=(16, 2))\n",
    "ax = fig.add_subplot(111)\n",
    "ax.plot(freq_list, spectral.absorption(mbs, 0, -1) - voigt, \n",
    "        label='Absorption', lw=2.0, c=pal[0])\n",
    "ax.set_xlim(-3.0, 3.0)\n",
    "ax.set_ylim(-3e-2, 3e-2)\n",
    "ax.set_xlabel('Frequency ($\\Gamma$)');"
   ]
  }
 ],
 "metadata": {
  "kernelspec": {
   "display_name": "Python 3",
   "language": "python",
   "name": "python3"
  },
  "language_info": {
   "codemirror_mode": {
    "name": "ipython",
    "version": 3
   },
   "file_extension": ".py",
   "mimetype": "text/x-python",
   "name": "python",
   "nbconvert_exporter": "python",
   "pygments_lexer": "ipython3",
   "version": "3.7.3"
  }
 },
 "nbformat": 4,
 "nbformat_minor": 2
}
